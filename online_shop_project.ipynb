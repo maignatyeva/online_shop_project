{
 "cells": [
  {
   "cell_type": "markdown",
   "id": "20419122-6eac-4711-82fe-260264c4a854",
   "metadata": {},
   "source": [
    "# Проведение A/B тестирования"
   ]
  },
  {
   "cell_type": "markdown",
   "id": "160c4dbe-a6c0-44a6-952a-6c4296ba98fe",
   "metadata": {},
   "source": [
    "Отдел маркетинга крупного интернет-магазина подготовил список гипотез для увеличения выручки. В рамках данного исследования наша задача состоит в приоритезации данных гипотез и анализе результатов A/B теста.\n",
    "\n",
    "В нашем распоряжении данные о гипотезах и данные результатов A/B теста.\n",
    "\n",
    "Составим план работ:\n",
    "1. Приоритезация гипотез  \n",
    "    1.1. Загрузка данных  \n",
    "    1.2. Приоритезация по ICE  \n",
    "    1.3. Приоритезация по RICE  \n",
    "    1.4. Вывод\n",
    "2. Анализ A/B теста  \n",
    "    2.1. Загрузка данных  \n",
    "    2.2. Визуализация данных  \n",
    "    2.3. Подсчет результатов  \n",
    "    2.4. Вывод\n",
    "\n",
    "Приступим к исследованию!"
   ]
  },
  {
   "cell_type": "markdown",
   "id": "c4e0febf-a81f-4962-bca4-d90c4a4a5502",
   "metadata": {},
   "source": [
    "## Приоритезация гипотез"
   ]
  },
  {
   "cell_type": "markdown",
   "id": "5d71ac8d-2586-41fc-879e-68888210ff68",
   "metadata": {},
   "source": [
    "### Загрузка данных"
   ]
  },
  {
   "cell_type": "markdown",
   "id": "bd3c9b5b-0f70-46ef-b91c-f7321cbe45f0",
   "metadata": {},
   "source": [
    "Для начала импортируем нужные библиотеки."
   ]
  },
  {
   "cell_type": "code",
   "execution_count": 1,
   "id": "d17e6f59-0160-454d-9b85-86c2400d2688",
   "metadata": {},
   "outputs": [],
   "source": [
    "import pandas as pd\n",
    "import matplotlib.pyplot as plt\n",
    "import numpy as np\n",
    "from scipy import stats\n",
    "import datetime as dt"
   ]
  },
  {
   "cell_type": "markdown",
   "id": "e96770b6-fe1b-4f52-a70c-4d62fb7e7505",
   "metadata": {},
   "source": [
    "Теперь загрузим данные о гипотезах в переменную `hypothesis` и изучим основную информацию о них."
   ]
  },
  {
   "cell_type": "code",
   "execution_count": 2,
   "id": "25c133d0-3abb-40d5-b6ed-fb89be92ba93",
   "metadata": {},
   "outputs": [],
   "source": [
    "try:\n",
    "    hypothesis = pd.read_csv('/Users/macbook/practicum/projects/online_shop_project/hypothesis.csv')\n",
    "except:\n",
    "    hypothesis = pd.read_csv('https://code.s3.yandex.net/datasets/hypothesis.csv')"
   ]
  },
  {
   "cell_type": "code",
   "execution_count": 3,
   "id": "05303cd6-3adc-4c5d-9aab-2c3c9b766b7a",
   "metadata": {},
   "outputs": [
    {
     "name": "stdout",
     "output_type": "stream",
     "text": [
      "<class 'pandas.core.frame.DataFrame'>\n",
      "RangeIndex: 9 entries, 0 to 8\n",
      "Data columns (total 5 columns):\n",
      " #   Column      Non-Null Count  Dtype \n",
      "---  ------      --------------  ----- \n",
      " 0   Hypothesis  9 non-null      object\n",
      " 1   Reach       9 non-null      int64 \n",
      " 2   Impact      9 non-null      int64 \n",
      " 3   Confidence  9 non-null      int64 \n",
      " 4   Efforts     9 non-null      int64 \n",
      "dtypes: int64(4), object(1)\n",
      "memory usage: 488.0+ bytes\n"
     ]
    }
   ],
   "source": [
    "hypothesis.info()"
   ]
  },
  {
   "cell_type": "markdown",
   "id": "b21d4c73-f743-46c4-b582-0aff7f817e97",
   "metadata": {},
   "source": [
    "Датафрейм содержит информацию о 9 гипотезах и их характеристиках.\n",
    "\n",
    "Согласно документации к данным столбцы содержат следующие данные:\n",
    "* `Hypothesis` - краткое описание гипотезы\n",
    "* `Reach` - охват пользователей по 10-балльной шкале\n",
    "* `Impact` - влияние на пользователей по 10-балльной шкале\n",
    "* `Confidence` - уверенность в гипотезе по 10-балльной шкале\n",
    "* `Efforts` - затраты ресурсов на проверку гипотезы по 10-балльной шкале. Чем больше значение Efforts, тем дороже проверка гипотезы"
   ]
  },
  {
   "cell_type": "markdown",
   "id": "2e46828e-ead4-4bcb-9321-f831fe179544",
   "metadata": {
    "tags": []
   },
   "source": [
    "### Приоритезация по ICE"
   ]
  },
  {
   "cell_type": "markdown",
   "id": "35593b21-77f7-4917-86e0-998148f19335",
   "metadata": {},
   "source": [
    "Применим фреймворк ICE для приоритизации гипотез."
   ]
  },
  {
   "cell_type": "code",
   "execution_count": 4,
   "id": "c4587bd7-5707-4bea-8893-66f85b60dff7",
   "metadata": {},
   "outputs": [
    {
     "data": {
      "text/html": [
       "<div>\n",
       "<style scoped>\n",
       "    .dataframe tbody tr th:only-of-type {\n",
       "        vertical-align: middle;\n",
       "    }\n",
       "\n",
       "    .dataframe tbody tr th {\n",
       "        vertical-align: top;\n",
       "    }\n",
       "\n",
       "    .dataframe thead th {\n",
       "        text-align: right;\n",
       "    }\n",
       "</style>\n",
       "<table border=\"1\" class=\"dataframe\">\n",
       "  <thead>\n",
       "    <tr style=\"text-align: right;\">\n",
       "      <th></th>\n",
       "      <th>Hypothesis</th>\n",
       "      <th>ICE</th>\n",
       "    </tr>\n",
       "  </thead>\n",
       "  <tbody>\n",
       "    <tr>\n",
       "      <th>8</th>\n",
       "      <td>Запустить акцию, дающую скидку на товар в день...</td>\n",
       "      <td>16.20</td>\n",
       "    </tr>\n",
       "    <tr>\n",
       "      <th>0</th>\n",
       "      <td>Добавить два новых канала привлечения трафика,...</td>\n",
       "      <td>13.33</td>\n",
       "    </tr>\n",
       "    <tr>\n",
       "      <th>7</th>\n",
       "      <td>Добавить форму подписки на все основные страни...</td>\n",
       "      <td>11.20</td>\n",
       "    </tr>\n",
       "    <tr>\n",
       "      <th>6</th>\n",
       "      <td>Показать на главной странице баннеры с актуаль...</td>\n",
       "      <td>8.00</td>\n",
       "    </tr>\n",
       "    <tr>\n",
       "      <th>2</th>\n",
       "      <td>Добавить блоки рекомендаций товаров на сайт ин...</td>\n",
       "      <td>7.00</td>\n",
       "    </tr>\n",
       "    <tr>\n",
       "      <th>1</th>\n",
       "      <td>Запустить собственную службу доставки, что сок...</td>\n",
       "      <td>2.00</td>\n",
       "    </tr>\n",
       "    <tr>\n",
       "      <th>5</th>\n",
       "      <td>Добавить страницу отзывов клиентов о магазине,...</td>\n",
       "      <td>1.33</td>\n",
       "    </tr>\n",
       "    <tr>\n",
       "      <th>3</th>\n",
       "      <td>Изменить структура категорий, что увеличит кон...</td>\n",
       "      <td>1.12</td>\n",
       "    </tr>\n",
       "    <tr>\n",
       "      <th>4</th>\n",
       "      <td>Изменить цвет фона главной страницы, чтобы уве...</td>\n",
       "      <td>1.00</td>\n",
       "    </tr>\n",
       "  </tbody>\n",
       "</table>\n",
       "</div>"
      ],
      "text/plain": [
       "                                          Hypothesis    ICE\n",
       "8  Запустить акцию, дающую скидку на товар в день...  16.20\n",
       "0  Добавить два новых канала привлечения трафика,...  13.33\n",
       "7  Добавить форму подписки на все основные страни...  11.20\n",
       "6  Показать на главной странице баннеры с актуаль...   8.00\n",
       "2  Добавить блоки рекомендаций товаров на сайт ин...   7.00\n",
       "1  Запустить собственную службу доставки, что сок...   2.00\n",
       "5  Добавить страницу отзывов клиентов о магазине,...   1.33\n",
       "3  Изменить структура категорий, что увеличит кон...   1.12\n",
       "4  Изменить цвет фона главной страницы, чтобы уве...   1.00"
      ]
     },
     "execution_count": 4,
     "metadata": {},
     "output_type": "execute_result"
    }
   ],
   "source": [
    "hypothesis['ICE'] = (hypothesis['Impact'] * hypothesis['Confidence']) / hypothesis['Efforts']\n",
    "hypothesis['ICE'] = hypothesis['ICE'].round(2)\n",
    "\n",
    "hypothesis[['Hypothesis','ICE']].sort_values(by='ICE', ascending=False)"
   ]
  },
  {
   "cell_type": "markdown",
   "id": "c3f59110-efe8-47cb-89d3-c8a10bac627d",
   "metadata": {},
   "source": [
    "Наиболее приоритетными согласно фреймворку ICE стали гипотезы о запуске акции, добавлении двух новых каналов привлечения трафика и добавлении формы подписки на все основные страницы."
   ]
  },
  {
   "cell_type": "markdown",
   "id": "23f7d531-e0d3-4c9d-be6d-776d8a8a5fa8",
   "metadata": {
    "tags": []
   },
   "source": [
    "### Приоритезация по RICE"
   ]
  },
  {
   "cell_type": "markdown",
   "id": "be29b343-52c0-4a96-9ac1-dc83a9af6289",
   "metadata": {},
   "source": [
    "Применим фреймворк RICE для приоритизации гипотез."
   ]
  },
  {
   "cell_type": "code",
   "execution_count": 5,
   "id": "e636fecd-fddd-4967-b637-30102b9640f5",
   "metadata": {},
   "outputs": [
    {
     "data": {
      "text/html": [
       "<div>\n",
       "<style scoped>\n",
       "    .dataframe tbody tr th:only-of-type {\n",
       "        vertical-align: middle;\n",
       "    }\n",
       "\n",
       "    .dataframe tbody tr th {\n",
       "        vertical-align: top;\n",
       "    }\n",
       "\n",
       "    .dataframe thead th {\n",
       "        text-align: right;\n",
       "    }\n",
       "</style>\n",
       "<table border=\"1\" class=\"dataframe\">\n",
       "  <thead>\n",
       "    <tr style=\"text-align: right;\">\n",
       "      <th></th>\n",
       "      <th>Hypothesis</th>\n",
       "      <th>RICE</th>\n",
       "    </tr>\n",
       "  </thead>\n",
       "  <tbody>\n",
       "    <tr>\n",
       "      <th>7</th>\n",
       "      <td>Добавить форму подписки на все основные страни...</td>\n",
       "      <td>112.0</td>\n",
       "    </tr>\n",
       "    <tr>\n",
       "      <th>2</th>\n",
       "      <td>Добавить блоки рекомендаций товаров на сайт ин...</td>\n",
       "      <td>56.0</td>\n",
       "    </tr>\n",
       "    <tr>\n",
       "      <th>0</th>\n",
       "      <td>Добавить два новых канала привлечения трафика,...</td>\n",
       "      <td>40.0</td>\n",
       "    </tr>\n",
       "    <tr>\n",
       "      <th>6</th>\n",
       "      <td>Показать на главной странице баннеры с актуаль...</td>\n",
       "      <td>40.0</td>\n",
       "    </tr>\n",
       "    <tr>\n",
       "      <th>8</th>\n",
       "      <td>Запустить акцию, дающую скидку на товар в день...</td>\n",
       "      <td>16.2</td>\n",
       "    </tr>\n",
       "    <tr>\n",
       "      <th>3</th>\n",
       "      <td>Изменить структура категорий, что увеличит кон...</td>\n",
       "      <td>9.0</td>\n",
       "    </tr>\n",
       "    <tr>\n",
       "      <th>1</th>\n",
       "      <td>Запустить собственную службу доставки, что сок...</td>\n",
       "      <td>4.0</td>\n",
       "    </tr>\n",
       "    <tr>\n",
       "      <th>5</th>\n",
       "      <td>Добавить страницу отзывов клиентов о магазине,...</td>\n",
       "      <td>4.0</td>\n",
       "    </tr>\n",
       "    <tr>\n",
       "      <th>4</th>\n",
       "      <td>Изменить цвет фона главной страницы, чтобы уве...</td>\n",
       "      <td>3.0</td>\n",
       "    </tr>\n",
       "  </tbody>\n",
       "</table>\n",
       "</div>"
      ],
      "text/plain": [
       "                                          Hypothesis   RICE\n",
       "7  Добавить форму подписки на все основные страни...  112.0\n",
       "2  Добавить блоки рекомендаций товаров на сайт ин...   56.0\n",
       "0  Добавить два новых канала привлечения трафика,...   40.0\n",
       "6  Показать на главной странице баннеры с актуаль...   40.0\n",
       "8  Запустить акцию, дающую скидку на товар в день...   16.2\n",
       "3  Изменить структура категорий, что увеличит кон...    9.0\n",
       "1  Запустить собственную службу доставки, что сок...    4.0\n",
       "5  Добавить страницу отзывов клиентов о магазине,...    4.0\n",
       "4  Изменить цвет фона главной страницы, чтобы уве...    3.0"
      ]
     },
     "execution_count": 5,
     "metadata": {},
     "output_type": "execute_result"
    }
   ],
   "source": [
    "hypothesis['RICE'] = (hypothesis['Reach'] * hypothesis['Impact'] * hypothesis['Confidence']) / hypothesis['Efforts']\n",
    "hypothesis['RICE'] = hypothesis['RICE'].round(2)\n",
    "\n",
    "hypothesis[['Hypothesis','RICE']].sort_values(by='RICE', ascending=False)"
   ]
  },
  {
   "cell_type": "markdown",
   "id": "57d36147-0c77-419b-92bd-32ca379237d1",
   "metadata": {},
   "source": [
    "Наиболее приоритетной согласно фреймворку RICE стала гипотеза о добавлении формы подписки на все основные страницы. Также можно отметить гипотезы о добавлении блоков рекомендаций товаров на сайт, добавлении двух новых каналов привлечения трафика и показ баннеров на главной странице."
   ]
  },
  {
   "cell_type": "markdown",
   "id": "f4c897fc-49d1-4e9d-9068-95357a4e94f4",
   "metadata": {},
   "source": [
    "### Вывод"
   ]
  },
  {
   "cell_type": "markdown",
   "id": "c24dced6-aa0a-4ab4-9a37-fd12d4bb11b6",
   "metadata": {},
   "source": [
    "Мы видим, что при использовании разных фреймворков меняется приоритизация гипотез. Это связано с тем, что, в отличие от ICE, RICE учитывает не только влияние на пользователей, уверенность в гипотезе и затраты ресурсов на проверку гипотезы, но и охват пользователей.\n",
    "\n",
    "\n",
    "После применения обоих фреймворков, мы остановили свой выбор на гипотезах о добавлении формы подписки на все основные страницы и добавлении двух новых каналов привлечения трафика, так как данные гипотезы попали в топ-3 приоритетов по каждому фреймфорку."
   ]
  },
  {
   "cell_type": "markdown",
   "id": "c36ff900-983c-412c-b0bc-a9293b9bcc8f",
   "metadata": {},
   "source": [
    "## Анализ A/B-теста"
   ]
  },
  {
   "cell_type": "markdown",
   "id": "5c8f5cbb-2569-4a12-b039-a26e0f6b962b",
   "metadata": {},
   "source": [
    "Мы провели A/B-тест и получили результаты. Приступим к анализу."
   ]
  },
  {
   "cell_type": "markdown",
   "id": "e65da0e4-e535-4eb5-91da-58653d820845",
   "metadata": {},
   "source": [
    "### Загрузка данных"
   ]
  },
  {
   "cell_type": "markdown",
   "id": "5b9a869f-e635-4df8-b051-d6a047972b5e",
   "metadata": {},
   "source": [
    "Загрузим данные в соответствующие переменные и изучим основную информацию о них."
   ]
  },
  {
   "cell_type": "markdown",
   "id": "f7099f98-604d-4f25-b0d8-309cd34697f6",
   "metadata": {},
   "source": [
    "#### Заказы"
   ]
  },
  {
   "cell_type": "code",
   "execution_count": 6,
   "id": "356b53bd-5301-43ff-af7e-b48618a7c43e",
   "metadata": {},
   "outputs": [],
   "source": [
    "try:\n",
    "    orders = pd.read_csv('/Users/macbook/practicum/projects/online_shop_project/orders.csv')\n",
    "except:\n",
    "    orders = pd.read_csv('https://code.s3.yandex.net/datasets/orders.csv')"
   ]
  },
  {
   "cell_type": "code",
   "execution_count": 7,
   "id": "fc710a1a-2312-4808-9be9-95a82660e7c7",
   "metadata": {
    "tags": []
   },
   "outputs": [
    {
     "name": "stdout",
     "output_type": "stream",
     "text": [
      "<class 'pandas.core.frame.DataFrame'>\n",
      "RangeIndex: 1197 entries, 0 to 1196\n",
      "Data columns (total 5 columns):\n",
      " #   Column         Non-Null Count  Dtype \n",
      "---  ------         --------------  ----- \n",
      " 0   transactionId  1197 non-null   int64 \n",
      " 1   visitorId      1197 non-null   int64 \n",
      " 2   date           1197 non-null   object\n",
      " 3   revenue        1197 non-null   int64 \n",
      " 4   group          1197 non-null   object\n",
      "dtypes: int64(3), object(2)\n",
      "memory usage: 46.9+ KB\n"
     ]
    }
   ],
   "source": [
    "orders.info()"
   ]
  },
  {
   "cell_type": "markdown",
   "id": "38f83464-e0e7-4385-91f7-8eb42ece6601",
   "metadata": {},
   "source": [
    "Датафрейм содержит информацию о более чем тысяче заказов в разрезе по датам и группам A/B теста.\n",
    "\n",
    "Согласно документации к данным столбцы содержат следующие данные:\n",
    "* `transactionId` - идентификатор заказа\n",
    "* `visitorId` - идентификатор пользователя, совершившего заказ\n",
    "* `date` - дата, когда был совершён заказ\n",
    "* `revenue` - выручка заказа\n",
    "* `group` - группа A/B теста, в которую попал заказ"
   ]
  },
  {
   "cell_type": "markdown",
   "id": "263585c8",
   "metadata": {},
   "source": [
    "Приведем дату к соответствующему формату."
   ]
  },
  {
   "cell_type": "code",
   "execution_count": 8,
   "id": "15c17189",
   "metadata": {
    "scrolled": true
   },
   "outputs": [],
   "source": [
    "orders['date'] = orders['date'].map(\n",
    "    lambda x: dt.datetime.strptime(x, '%Y-%m-%d'))"
   ]
  },
  {
   "cell_type": "markdown",
   "id": "d850c54b",
   "metadata": {},
   "source": [
    "Проверим датафрейм на наличие дубликатов."
   ]
  },
  {
   "cell_type": "code",
   "execution_count": 9,
   "id": "1f8d40c1",
   "metadata": {},
   "outputs": [
    {
     "data": {
      "text/plain": [
       "0"
      ]
     },
     "execution_count": 9,
     "metadata": {},
     "output_type": "execute_result"
    }
   ],
   "source": [
    "orders.duplicated().sum()"
   ]
  },
  {
   "cell_type": "markdown",
   "id": "d6cfcb1c",
   "metadata": {},
   "source": [
    "В датафрейме дубликатов нет."
   ]
  },
  {
   "cell_type": "markdown",
   "id": "3475846b-3ad7-4870-8339-29904c09428a",
   "metadata": {},
   "source": [
    "#### Пользователи"
   ]
  },
  {
   "cell_type": "code",
   "execution_count": 10,
   "id": "d4a842e5-b82a-4ed8-9ce6-aa8ce8e0d6eb",
   "metadata": {},
   "outputs": [],
   "source": [
    "try:\n",
    "    visitors = pd.read_csv('/Users/macbook/practicum/projects/online_shop_project/visitors.csv')\n",
    "except:\n",
    "    visitors = pd.read_csv('https://code.s3.yandex.net/datasets/visitors.csv')"
   ]
  },
  {
   "cell_type": "code",
   "execution_count": 11,
   "id": "f1168cf2-4d45-4739-a6c8-eef443949b73",
   "metadata": {},
   "outputs": [
    {
     "name": "stdout",
     "output_type": "stream",
     "text": [
      "<class 'pandas.core.frame.DataFrame'>\n",
      "RangeIndex: 62 entries, 0 to 61\n",
      "Data columns (total 3 columns):\n",
      " #   Column    Non-Null Count  Dtype \n",
      "---  ------    --------------  ----- \n",
      " 0   date      62 non-null     object\n",
      " 1   group     62 non-null     object\n",
      " 2   visitors  62 non-null     int64 \n",
      "dtypes: int64(1), object(2)\n",
      "memory usage: 1.6+ KB\n"
     ]
    }
   ],
   "source": [
    "visitors.info()"
   ]
  },
  {
   "cell_type": "markdown",
   "id": "95512b04-cca2-4af6-9328-3bdf0d4cbb51",
   "metadata": {},
   "source": [
    "Датафрейм содержит информацию о количестве посетителей в разрезе по датам и группам A/B теста.\n",
    "\n",
    "Согласно документации к данным столбцы содержат следующие данные:\n",
    "* `date` - дата\n",
    "* `group` - группа A/B-теста\n",
    "* `visitors` - количество пользователей в указанную дату в указанной группе A/B теста"
   ]
  },
  {
   "cell_type": "markdown",
   "id": "7285a316",
   "metadata": {},
   "source": [
    "Приведем дату к соответствующему формату."
   ]
  },
  {
   "cell_type": "code",
   "execution_count": 12,
   "id": "55f0c6f2",
   "metadata": {
    "scrolled": true
   },
   "outputs": [],
   "source": [
    "visitors['date'] = visitors['date'].map(\n",
    "    lambda x: dt.datetime.strptime(x, '%Y-%m-%d'))"
   ]
  },
  {
   "cell_type": "markdown",
   "id": "ebe3aec2",
   "metadata": {},
   "source": [
    "Проверим датафрейм на наличие дубликатов."
   ]
  },
  {
   "cell_type": "code",
   "execution_count": 13,
   "id": "a08fefe6",
   "metadata": {},
   "outputs": [
    {
     "data": {
      "text/plain": [
       "0"
      ]
     },
     "execution_count": 13,
     "metadata": {},
     "output_type": "execute_result"
    }
   ],
   "source": [
    "visitors.duplicated().sum()"
   ]
  },
  {
   "cell_type": "markdown",
   "id": "30164d9a",
   "metadata": {},
   "source": [
    "В датафрейме дубликатов нет."
   ]
  },
  {
   "cell_type": "markdown",
   "id": "38757845-b09f-4ce3-aa67-bd5f2c5c0d99",
   "metadata": {},
   "source": [
    "### Визуализация данных"
   ]
  },
  {
   "cell_type": "markdown",
   "id": "5697192d-140f-443f-b216-d429e1d60d0c",
   "metadata": {},
   "source": [
    "#### Кумулятивная выручка по группам"
   ]
  },
  {
   "cell_type": "markdown",
   "id": "5ff3af0c-02d3-4e68-9823-70746c9049a0",
   "metadata": {},
   "source": [
    "Построим график кумулятивной выручки по группам."
   ]
  },
  {
   "cell_type": "code",
   "execution_count": 14,
   "id": "a6cf3514-288c-4065-843d-1d616066f3e1",
   "metadata": {},
   "outputs": [
    {
     "data": {
      "image/png": "[encoded data removed]",
      "text/plain": [
       "<Figure size 1080x504 with 1 Axes>"
      ]
     },
     "metadata": {
      "needs_background": "light"
     },
     "output_type": "display_data"
    }
   ],
   "source": [
    "# создадим массив уникальных пар значений дат и групп теста\n",
    "datesGroups = orders[['date','group']].drop_duplicates()\n",
    "\n",
    "# получим агрегированные кумулятивные по дням данные о заказах \n",
    "ordersAggregated = datesGroups.apply(\n",
    "    lambda x: orders[np.logical_and(orders['date'] <= x['date'], orders['group'] == x['group'])].agg(\n",
    "        {'date' : 'max', 'group' : 'max', 'transactionId' : 'nunique', 'visitorId' : 'nunique', 'revenue' : 'sum'}), axis=1\n",
    ").sort_values(by=['date','group'])\n",
    "\n",
    "# получим агрегированные кумулятивные по дням данные о посетителях интернет-магазина \n",
    "visitorsAggregated = datesGroups.apply(\n",
    "    lambda x: visitors[np.logical_and(visitors['date'] <= x['date'], visitors['group'] == x['group'])].agg(\n",
    "        {'date' : 'max', 'group' : 'max', 'visitors' : 'sum'}), axis=1\n",
    ").sort_values(by=['date','group'])\n",
    "\n",
    "# объединим кумулятивные данные в одной таблице и присваиваем ее столбцам понятные названия\n",
    "cumulativeData = ordersAggregated.merge(visitorsAggregated, left_on=['date', 'group'], right_on=['date', 'group'])\n",
    "cumulativeData.columns = ['date', 'group', 'orders', 'buyers', 'revenue', 'visitors']\n",
    "\n",
    "# выделим датафрейм с кумулятивным количеством заказов и кумулятивной выручкой по дням в группе А\n",
    "cumulativeRevenueA = cumulativeData[cumulativeData['group']=='A'][['date','revenue', 'orders']]\n",
    "\n",
    "# выделим датафрейм с кумулятивным количеством заказов и кумулятивной выручкой по дням в группе B\n",
    "cumulativeRevenueB = cumulativeData[cumulativeData['group']=='B'][['date','revenue', 'orders']]\n",
    "\n",
    "# посторим график кумулятивной выручки по группам\n",
    "plt.figure(figsize=[15, 7])\n",
    "plt.plot(cumulativeRevenueA['date'], cumulativeRevenueA['revenue'], label='A')\n",
    "plt.plot(cumulativeRevenueB['date'], cumulativeRevenueB['revenue'], label='B')\n",
    "plt.title('Кумулятивная выручка по группам')\n",
    "plt.xlabel('Дата')\n",
    "plt.ylabel('Выручка')\n",
    "plt.legend(title='Группа')\n",
    "plt.gcf().autofmt_xdate()\n",
    "plt.show()"
   ]
  },
  {
   "cell_type": "markdown",
   "id": "5ee1607e-be08-481a-91b6-72f6c68b48e7",
   "metadata": {},
   "source": [
    "Выручка групп A и B растет равномерно в течение всего теста, но при этом выручка группы B получила дополнительный скачек в середине теста. Это может быть связано с всплеском количества заказов или с появлением очень дорогих заказов.\n",
    "\n",
    "Также на протяжении всего теста выручка группы B превышает выручку группы A."
   ]
  },
  {
   "cell_type": "markdown",
   "id": "f5568348-4e1e-409c-85c1-8d77e665ea16",
   "metadata": {},
   "source": [
    "#### Кумулятивный средний чек по группам"
   ]
  },
  {
   "cell_type": "markdown",
   "id": "31972ebd-0403-410c-9b90-c2b064702ddb",
   "metadata": {},
   "source": [
    "Построим график кумулятивного среднего чека по группам."
   ]
  },
  {
   "cell_type": "code",
   "execution_count": 15,
   "id": "2b69c49b-8256-4ed4-9e46-b2999d21d4a5",
   "metadata": {},
   "outputs": [
    {
     "data": {
      "image/png": "[encoded data removed]",
      "text/plain": [
       "<Figure size 1080x504 with 1 Axes>"
      ]
     },
     "metadata": {
      "needs_background": "light"
     },
     "output_type": "display_data"
    }
   ],
   "source": [
    "# посторим график кумулятивного среднего чека по группам\n",
    "plt.figure(figsize=[15, 7])\n",
    "plt.plot(cumulativeRevenueA['date'], cumulativeRevenueA['revenue']/cumulativeRevenueA['orders'], label='A')\n",
    "plt.plot(cumulativeRevenueB['date'], cumulativeRevenueB['revenue']/cumulativeRevenueB['orders'], label='B')\n",
    "plt.title('Кумулятивный средний чек по группам')\n",
    "plt.xlabel('Дата')\n",
    "plt.ylabel('Средний чек')\n",
    "plt.legend(title='Группа')\n",
    "plt.gcf().autofmt_xdate()\n",
    "plt.show()"
   ]
  },
  {
   "cell_type": "markdown",
   "id": "d3a87c8f-576a-48be-9089-89a8ca80a4c8",
   "metadata": {},
   "source": [
    "Средний чек группы A становится равномерным к середине теста, а средний чек группы B также демонстрирует резкий всплеск в середине теста, после чего начинает постепенно снижаться. Скорее всего этот скачек связан с оформлением особенно дорогих заказов.\n",
    "\n",
    "При этом практически на протяжении всего теста средний чек группы B превышает средний чек группы A."
   ]
  },
  {
   "cell_type": "markdown",
   "id": "9f6c5707-a45c-4198-9840-ba87fc1ef5af",
   "metadata": {},
   "source": [
    "#### Относительное изменение кумулятивного среднего чека группы B к группе A"
   ]
  },
  {
   "cell_type": "markdown",
   "id": "6e087722-9e1b-497e-b216-a3c7f0ebada2",
   "metadata": {},
   "source": [
    "Построим график относительного изменения кумулятивного среднего чека группы B к группе A."
   ]
  },
  {
   "cell_type": "code",
   "execution_count": 16,
   "id": "b5a18553-943e-47c9-9b24-695aee690c32",
   "metadata": {},
   "outputs": [
    {
     "data": {
      "image/png": "[encoded data removed]",
      "text/plain": [
       "<Figure size 1080x504 with 1 Axes>"
      ]
     },
     "metadata": {
      "needs_background": "light"
     },
     "output_type": "display_data"
    }
   ],
   "source": [
    "# собирем данные в одном датафрейме\n",
    "mergedCumulativeRevenue = cumulativeRevenueA.merge(\n",
    "    cumulativeRevenueB, left_on='date', right_on='date', how='left', suffixes=['A', 'B'])\n",
    "\n",
    "# посторим график относительного изменения кумулятивного среднего чека группы B к группе A\n",
    "plt.figure(figsize=[15, 7])\n",
    "plt.plot(mergedCumulativeRevenue['date'],\n",
    "         (mergedCumulativeRevenue['revenueB']/mergedCumulativeRevenue['ordersB'])/(mergedCumulativeRevenue['revenueA']/mergedCumulativeRevenue['ordersA'])-1)\n",
    "plt.title('Относительное изменение кумулятивного среднего чека группы B к группе A')\n",
    "plt.xlabel('Дата')\n",
    "plt.ylabel('Относительное изменение')\n",
    "plt.gcf().autofmt_xdate()\n",
    "plt.axhline(y=0, color='black', linestyle='--')\n",
    "plt.show()"
   ]
  },
  {
   "cell_type": "markdown",
   "id": "6076c2b6-a7eb-4652-bde8-725f74f5a2d5",
   "metadata": {},
   "source": [
    "Практически на протяжении всего теста средний чек группы B растет относительно группы A, однако данные не стабильны и имеют тенденцию к понижению."
   ]
  },
  {
   "cell_type": "markdown",
   "id": "983892e7-9e9c-44a3-8986-03a242a193d9",
   "metadata": {},
   "source": [
    "#### Кумулятивное среднее количество заказов на посетителя по группам"
   ]
  },
  {
   "cell_type": "markdown",
   "id": "e2d078c9-9223-4bec-90d7-54c52deb8756",
   "metadata": {},
   "source": [
    "Построим график кумулятивного среднего количества заказов на посетителя по группам."
   ]
  },
  {
   "cell_type": "code",
   "execution_count": 17,
   "id": "cd77376c-b5b8-418b-8e24-edf75e8a1008",
   "metadata": {},
   "outputs": [
    {
     "data": {
      "image/png": "[encoded data removed]",
      "text/plain": [
       "<Figure size 1080x504 with 1 Axes>"
      ]
     },
     "metadata": {
      "needs_background": "light"
     },
     "output_type": "display_data"
    }
   ],
   "source": [
    "# посчитаем среднее количество заказов на посетителя\n",
    "cumulativeData['conversion'] = cumulativeData['orders']/cumulativeData['visitors']\n",
    "\n",
    "# отделим данные по группе A\n",
    "cumulativeDataA = cumulativeData[cumulativeData['group']=='A']\n",
    "\n",
    "# отделим данные по группе B\n",
    "cumulativeDataB = cumulativeData[cumulativeData['group']=='B']\n",
    "\n",
    "# посторим график кумулятивного среднего количества заказов на посетителя по группам\n",
    "plt.figure(figsize=[15, 7])\n",
    "plt.plot(cumulativeDataA['date'], cumulativeDataA['conversion'], label='A')\n",
    "plt.plot(cumulativeDataB['date'], cumulativeDataB['conversion'], label='B')\n",
    "plt.title('Кумулятивное среднее количество заказов на посетителя по группам')\n",
    "plt.xlabel('Дата')\n",
    "plt.ylabel('Количество заказов')\n",
    "plt.legend(title='Группа')\n",
    "plt.gcf().autofmt_xdate()\n",
    "plt.show()"
   ]
  },
  {
   "cell_type": "markdown",
   "id": "4830e920-f7e8-465f-bbb3-65030aa1ee86",
   "metadata": {},
   "source": [
    "Среднее количество заказов стабилизировалось для обеих групп, причем этот показатель у группы B стабильно выше, чем у группы A."
   ]
  },
  {
   "cell_type": "markdown",
   "id": "e22ff43d-d632-45ef-996f-f780e595bca3",
   "metadata": {},
   "source": [
    "#### Относительное изменение кумулятивного среднего количества заказов на посетителя группы B к группе A"
   ]
  },
  {
   "cell_type": "markdown",
   "id": "c4c7b64b-d45a-4c3d-8e94-c32996e45849",
   "metadata": {},
   "source": [
    "Построим график относительного изменения кумулятивного среднего количества заказов на посетителя группы B к группе A."
   ]
  },
  {
   "cell_type": "code",
   "execution_count": 18,
   "id": "bd67fd5f-1a51-4e22-b8d4-934b9388b7ea",
   "metadata": {},
   "outputs": [
    {
     "data": {
      "image/png": "[encoded data removed]",
      "text/plain": [
       "<Figure size 1080x504 with 1 Axes>"
      ]
     },
     "metadata": {
      "needs_background": "light"
     },
     "output_type": "display_data"
    }
   ],
   "source": [
    "# объединим данные с кумулятивным средним чеком по группам\n",
    "mergedCumulativeConversions = cumulativeDataA[['date','conversion']].merge(\n",
    "    cumulativeDataB[['date','conversion']], left_on='date', right_on='date', how='left', suffixes=['A', 'B'])\n",
    "\n",
    "# посторим график относительного изменения кумулятивного среднего количества заказов на посетителя группы B к группе A\n",
    "plt.figure(figsize=[15, 7])\n",
    "plt.plot(mergedCumulativeConversions['date'],\n",
    "         mergedCumulativeConversions['conversionB']/mergedCumulativeConversions['conversionA']-1)\n",
    "plt.title('Относительное изменение кумулятивного среднего количества заказов на посетителя группы B к группе A')\n",
    "plt.xlabel('Дата')\n",
    "plt.ylabel('Относительное изменение')\n",
    "plt.gcf().autofmt_xdate()\n",
    "plt.axhline(y=0, color='black', linestyle='--')\n",
    "plt.axhline(y=0.15, color='grey', linestyle='--')\n",
    "plt.show()"
   ]
  },
  {
   "cell_type": "markdown",
   "id": "f2f31bfe-33e7-44b3-8b62-9bb020003dc3",
   "metadata": {},
   "source": [
    "Среднее количество заказов группы B также превышает этот показатель у группы A на протяжении практически всего теста. Разница стабилизируется к концу теста около значения в 15%."
   ]
  },
  {
   "cell_type": "markdown",
   "id": "bc148bcc-9445-4a5e-bf10-e67de093c9e2",
   "metadata": {},
   "source": [
    "#### Количество заказов по пользователям"
   ]
  },
  {
   "cell_type": "markdown",
   "id": "ffc307ae-3b66-4a6d-832a-a19cd8436974",
   "metadata": {},
   "source": [
    "Построим точечный график количества заказов по пользователям."
   ]
  },
  {
   "cell_type": "code",
   "execution_count": 19,
   "id": "a8f3dde3-2a9e-4ec6-9696-be62e97a1d99",
   "metadata": {},
   "outputs": [
    {
     "data": {
      "image/png": "[encoded data removed]",
      "text/plain": [
       "<Figure size 1080x504 with 1 Axes>"
      ]
     },
     "metadata": {
      "needs_background": "light"
     },
     "output_type": "display_data"
    }
   ],
   "source": [
    "# агрегируем данные заказов по пользователям\n",
    "ordersByUsers = (\n",
    "    orders.groupby('visitorId', as_index=False)\n",
    "    .agg({'transactionId': 'nunique'})\n",
    ")\n",
    "ordersByUsers.columns = ['visitorId', 'orders']\n",
    "\n",
    "# соберем данные для подписи графика\n",
    "x_values = pd.Series(range(0,len(ordersByUsers)))\n",
    "\n",
    "# построим точечный график количества заказов по пользователям\n",
    "plt.figure(figsize=[15, 7])\n",
    "plt.scatter(x_values, ordersByUsers['orders'])\n",
    "plt.title('Количество заказов по пользователям')\n",
    "plt.ylabel('Количество заказов')\n",
    "plt.show()"
   ]
  },
  {
   "cell_type": "markdown",
   "id": "d528fbca-e650-4957-be2e-ceaf01228eb0",
   "metadata": {},
   "source": [
    "Подавляющая часть пользователей совершает не более двух заказов.\n",
    "\n",
    "Однако, чтобы получить более точные данные, необходимо рассчитать 95-й и 99-й перцентили."
   ]
  },
  {
   "cell_type": "code",
   "execution_count": 20,
   "id": "0afc6a31-dc08-4288-91d5-5f648326a159",
   "metadata": {},
   "outputs": [
    {
     "data": {
      "text/plain": [
       "array([2., 4.])"
      ]
     },
     "execution_count": 20,
     "metadata": {},
     "output_type": "execute_result"
    }
   ],
   "source": [
    "np.percentile(ordersByUsers['orders'], [95, 99])"
   ]
  },
  {
   "cell_type": "markdown",
   "id": "d942f2c2-dbda-495a-a75c-b24c74dbfbf8",
   "metadata": {},
   "source": [
    "5% пользователей соверщают более двух заказов и 1% - более четырех.\n",
    "\n",
    "Для нашего анализа выберем границу аномальных значений в 2 заказа на пользователя."
   ]
  },
  {
   "cell_type": "markdown",
   "id": "72ad8e92-2776-42ce-a4e5-ab32fedd7dfd",
   "metadata": {},
   "source": [
    "#### Стоимость заказов"
   ]
  },
  {
   "cell_type": "markdown",
   "id": "e2ebfb94-7990-487c-9856-8a4df5a067eb",
   "metadata": {},
   "source": [
    "Построим точечный график стоимостей заказов."
   ]
  },
  {
   "cell_type": "code",
   "execution_count": 21,
   "id": "f5ce3b77-dad0-4177-ba4d-5af48b5717fd",
   "metadata": {},
   "outputs": [
    {
     "data": {
      "image/png": "[encoded data removed]",
      "text/plain": [
       "<Figure size 1080x504 with 1 Axes>"
      ]
     },
     "metadata": {
      "needs_background": "light"
     },
     "output_type": "display_data"
    }
   ],
   "source": [
    "# соберем данные для подписи графика\n",
    "x_values = pd.Series(range(0,len(orders['revenue'])))\n",
    "\n",
    "# построим точечный график стоимости заказов\n",
    "plt.figure(figsize=[15, 7])\n",
    "plt.scatter(x_values, orders['revenue'])\n",
    "plt.ticklabel_format(style='plain')\n",
    "plt.title('Стоимость заказов')\n",
    "plt.ylabel('Стоимость')\n",
    "plt.show()"
   ]
  },
  {
   "cell_type": "markdown",
   "id": "c518a044",
   "metadata": {},
   "source": [
    "Рассмотрим поближе значения в пределах стоимости в 100 тысяч, чтобы явного выброса не было видно, а мы могли рассмотреть основную часть заказов."
   ]
  },
  {
   "cell_type": "code",
   "execution_count": 22,
   "id": "de1d116a",
   "metadata": {},
   "outputs": [
    {
     "data": {
      "image/png": "[encoded data removed]",
      "text/plain": [
       "<Figure size 1080x504 with 1 Axes>"
      ]
     },
     "metadata": {
      "needs_background": "light"
     },
     "output_type": "display_data"
    }
   ],
   "source": [
    "# построим точечный график стоимости заказов\n",
    "plt.figure(figsize=[15, 7])\n",
    "plt.scatter(x_values, orders['revenue'])\n",
    "plt.ylim(0, 100000)\n",
    "plt.title('Стоимость заказов')\n",
    "plt.ylabel('Стоимость')\n",
    "plt.show()"
   ]
  },
  {
   "cell_type": "markdown",
   "id": "be96e997-1abf-4095-a981-8345e13743eb",
   "metadata": {},
   "source": [
    "Большая часть заказов не превышает среднюю стоимость в 40 тысяч.\n",
    "\n",
    "Однако, чтобы получить более точные данные, необходимо рассчитать 95-й и 99-й перцентили."
   ]
  },
  {
   "cell_type": "code",
   "execution_count": 23,
   "id": "3c7b8ec9-57af-4947-a5c8-1e470c3310a1",
   "metadata": {},
   "outputs": [
    {
     "data": {
      "text/plain": [
       "array([28000. , 58233.2])"
      ]
     },
     "execution_count": 23,
     "metadata": {},
     "output_type": "execute_result"
    }
   ],
   "source": [
    "np.percentile(orders['revenue'], [95, 99])"
   ]
  },
  {
   "cell_type": "markdown",
   "id": "1206d3ed-a0b5-4155-b61c-b3f48c8ad803",
   "metadata": {},
   "source": [
    "5% заказов превышают стоимость в 28 тысяч и 1% - 58 тысяч.\n",
    "\n",
    "Для нашего анализа выберем границу аномальных значений в 28 тысяч."
   ]
  },
  {
   "cell_type": "markdown",
   "id": "194dce89-be5e-426c-94df-cf247f12da15",
   "metadata": {},
   "source": [
    "### Подсчет результатов"
   ]
  },
  {
   "cell_type": "markdown",
   "id": "24ba2b38-83f3-4a9f-b3fe-b36ba60aa98b",
   "metadata": {},
   "source": [
    "Установим уровень статистической значимости в 5% для анализа результатов."
   ]
  },
  {
   "cell_type": "code",
   "execution_count": 24,
   "id": "2d3b351e-87e0-4d29-bedd-781f3767832c",
   "metadata": {},
   "outputs": [],
   "source": [
    "alpha = 0.05"
   ]
  },
  {
   "cell_type": "markdown",
   "id": "2ad68d57-6b31-4cfa-8602-b2d84abf892c",
   "metadata": {},
   "source": [
    "#### Различия в среднем количестве заказов на посетителя между группами "
   ]
  },
  {
   "cell_type": "markdown",
   "id": "7db432e4",
   "metadata": {},
   "source": [
    "Сформируем нулевую и альтернативную гипотезы:  \n",
    "H0: Статистически значимых различий в среднем числе заказов между группами нет.  \n",
    "H1: Статистически значимые различия в среднем количестве заказов между группами есть."
   ]
  },
  {
   "cell_type": "markdown",
   "id": "0eb9841b",
   "metadata": {},
   "source": [
    "Для проверки гипотез будем использовать тест Уилкоксона-Манна-Уитни, так как в данных присутствуют значительные аномалии."
   ]
  },
  {
   "cell_type": "markdown",
   "id": "0283c6c1-f0ae-4936-bc14-571ba50fdda6",
   "metadata": {},
   "source": [
    "##### Сырые данные"
   ]
  },
  {
   "cell_type": "markdown",
   "id": "31c4abad-6521-4e32-a2a9-13e3841eb131",
   "metadata": {},
   "source": [
    "Рассчитаем статистическую значимость различий в среднем количестве заказов на посетителя между группами по сырым данным."
   ]
  },
  {
   "cell_type": "code",
   "execution_count": 25,
   "id": "20ffe7ce-53d0-4a89-b2e0-71d9255e8fcc",
   "metadata": {},
   "outputs": [
    {
     "name": "stdout",
     "output_type": "stream",
     "text": [
      "p-value: 0.017\n",
      "разница: 0.138\n"
     ]
    }
   ],
   "source": [
    "# сформируем переменные с количеством заказов для пользователей, совершивших покупки, по группам\n",
    "ordersByUsersA = (\n",
    "    orders[orders['group'] == 'A']\n",
    "    .groupby('visitorId', as_index=False)\n",
    "    .agg({'transactionId': pd.Series.nunique})\n",
    ")\n",
    "ordersByUsersA.columns = ['visitorId', 'orders']\n",
    "\n",
    "ordersByUsersB = (\n",
    "    orders[orders['group'] == 'B']\n",
    "    .groupby('visitorId', as_index=False)\n",
    "    .agg({'transactionId': pd.Series.nunique})\n",
    ")\n",
    "ordersByUsersB.columns = ['visitorId', 'orders']\n",
    "\n",
    "\n",
    "\n",
    "# cформируем переменные, в которых каждому пользователю будет соответствовать количество заказов, по группам\n",
    "sampleA = pd.concat(\n",
    "    [\n",
    "        ordersByUsersA['orders'],\n",
    "        pd.Series(\n",
    "            0,\n",
    "            index=np.arange(\n",
    "                visitors[visitors['group']=='A']['visitors'].sum() - len(ordersByUsersA['orders'])\n",
    "            ),\n",
    "            name='orders',\n",
    "        ),\n",
    "    ],\n",
    "    axis=0,\n",
    ")\n",
    "\n",
    "sampleB = pd.concat(\n",
    "    [\n",
    "        ordersByUsersB['orders'],\n",
    "        pd.Series(\n",
    "            0,\n",
    "            index=np.arange(\n",
    "                visitors[visitors['group']=='B']['visitors'].sum() - len(ordersByUsersB['orders'])\n",
    "            ),\n",
    "            name='orders',\n",
    "        ),\n",
    "    ],\n",
    "    axis=0,\n",
    ")\n",
    "\n",
    "# рассчитаем p-value при помощи теста Уилкоксона-Манна-Уитни\n",
    "print('p-value:', \"{0:.3f}\".format(stats.mannwhitneyu(sampleA, sampleB)[1]))\n",
    "\n",
    "# рассчитаем разницу в среднем количестве заказов на посетителя между группами\n",
    "print('разница:', \"{0:.3f}\".format(sampleB.mean() / sampleA.mean() - 1))"
   ]
  },
  {
   "cell_type": "markdown",
   "id": "165b2d6e-9389-477d-8ded-a41009d5b139",
   "metadata": {},
   "source": [
    "p-value ниже уровня статистической значимости, значит, нулевую гипотезу отвергаем. В связи с этим мы можем сделать вывод о том, что есть достаточно статистических оснований полагать, что среднее количество заказов на посетителя между группами различается.\n",
    "\n",
    "Тест также показал, что среднее количество заказов на посетителя в группе B на 13,8% больше, чем в группе A."
   ]
  },
  {
   "cell_type": "markdown",
   "id": "397c9574-77d0-41ca-ae6a-475f3146c7dc",
   "metadata": {},
   "source": [
    "##### Очищенные данные"
   ]
  },
  {
   "cell_type": "markdown",
   "id": "c7dcd3e1-7a24-47f2-9416-26e6ebc0d583",
   "metadata": {},
   "source": [
    "Рассчитаем статистическую значимость различий в среднем количестве заказов на посетителя между группами по очищенным данным, то есть без учета аномалий."
   ]
  },
  {
   "cell_type": "code",
   "execution_count": 26,
   "id": "5c7468ed-681c-4da5-9055-3dde9dfbaa76",
   "metadata": {},
   "outputs": [
    {
     "name": "stdout",
     "output_type": "stream",
     "text": [
      "p-value: 0.013\n",
      "разница: 0.173\n"
     ]
    }
   ],
   "source": [
    "# сделаем срез пользователей с числом заказов больше 2\n",
    "usersWithManyOrders = pd.concat(\n",
    "    [\n",
    "        ordersByUsersA[ordersByUsersA['orders'] > np.percentile(ordersByUsers['orders'], 95)]['visitorId'],\n",
    "        ordersByUsersB[ordersByUsersB['orders'] > np.percentile(ordersByUsers['orders'], 95)]['visitorId'],\n",
    "    ],\n",
    "    axis=0,\n",
    ")\n",
    "\n",
    "# сделаем срез пользователей, совершивших заказы дороже 28 000\n",
    "usersWithExpensiveOrders = orders[orders['revenue'] > np.percentile(orders['revenue'], 95)]['visitorId']\n",
    "abnormalUsers = (\n",
    "    pd.concat([usersWithManyOrders, usersWithExpensiveOrders], axis=0)\n",
    "    .drop_duplicates()\n",
    "    .sort_values()\n",
    ")\n",
    "\n",
    "# cформируем переменные, в которых каждому пользователю будет соответствовать количество заказов, по группам\n",
    "sampleAFiltered = pd.concat(\n",
    "    [\n",
    "        ordersByUsersA[\n",
    "            np.logical_not(ordersByUsersA['visitorId'].isin(abnormalUsers))\n",
    "        ]['orders'],\n",
    "        pd.Series(\n",
    "            0,\n",
    "            index=np.arange(\n",
    "                visitors[visitors['group']=='A']['visitors'].sum() - len(ordersByUsersA['orders'])\n",
    "            ),\n",
    "            name='orders',\n",
    "        ),\n",
    "    ],\n",
    "    axis=0,\n",
    ")\n",
    "\n",
    "sampleBFiltered = pd.concat(\n",
    "    [\n",
    "        ordersByUsersB[\n",
    "            np.logical_not(ordersByUsersB['visitorId'].isin(abnormalUsers))\n",
    "        ]['orders'],\n",
    "        pd.Series(\n",
    "            0,\n",
    "            index=np.arange(\n",
    "                visitors[visitors['group']=='B']['visitors'].sum() - len(ordersByUsersB['orders'])\n",
    "            ),\n",
    "            name='orders',\n",
    "        ),\n",
    "    ],\n",
    "    axis=0,\n",
    ")\n",
    "\n",
    "# рассчитаем p-value при помощи теста Уилкоксона-Манна-Уитни\n",
    "print('p-value:', '{0:.3f}'.format(stats.mannwhitneyu(sampleAFiltered, sampleBFiltered)[1]))\n",
    "\n",
    "# рассчитаем разницу в среднем количестве заказов на посетителя между группами\n",
    "print('разница:', '{0:.3f}'.format(sampleBFiltered.mean()/sampleAFiltered.mean()-1))"
   ]
  },
  {
   "cell_type": "markdown",
   "id": "77b70d39-cf53-4939-98ef-ecbbb5c3bf8b",
   "metadata": {},
   "source": [
    "p-value также ниже уровня статистической значимости, значит, нулевую гипотезу отвергаем. Следовательно мы можем сделать тот же вывод о том, что есть достаточно статистических оснований полагать, что среднее количество заказов на посетителя между группами различается.\n",
    "\n",
    "В данном случае среднее количество заказов на посетителя в группе B на 17,3% больше, чем в группе A."
   ]
  },
  {
   "cell_type": "markdown",
   "id": "30e1805d-c7b1-4248-ad36-bc859eb17c1a",
   "metadata": {
    "toc-hr-collapsed": true
   },
   "source": [
    "#### Различия в среднем чеке заказа между группами "
   ]
  },
  {
   "cell_type": "markdown",
   "id": "708bb558",
   "metadata": {},
   "source": [
    "Сформируем нулевую и альтернативную гипотезы:  \n",
    "H0: Статистически значимых различий в среднем чеке заказа между группами нет.  \n",
    "H1: Статистически значимые различия в среднем чеке заказа между группами есть."
   ]
  },
  {
   "cell_type": "markdown",
   "id": "a8d8f222",
   "metadata": {},
   "source": [
    "Для проверки гипотез будем использовать тест Уилкоксона-Манна-Уитни, так как в данных присутствуют значительные аномалии."
   ]
  },
  {
   "cell_type": "markdown",
   "id": "4c687122-3b2f-4612-9c02-9a37f9c84af8",
   "metadata": {},
   "source": [
    "##### Сырые данные"
   ]
  },
  {
   "cell_type": "markdown",
   "id": "c3b99a8f-188a-48fb-81d2-0ce8d01f5056",
   "metadata": {},
   "source": [
    "Рассчитаем статистическую значимость различий в среднем чеке заказа между группами по сырым данным."
   ]
  },
  {
   "cell_type": "code",
   "execution_count": 27,
   "id": "170bc68e-8947-4656-a678-255d53c25257",
   "metadata": {},
   "outputs": [
    {
     "name": "stdout",
     "output_type": "stream",
     "text": [
      "p-value: 0.729\n",
      "разница: 0.259\n"
     ]
    }
   ],
   "source": [
    "# рассчитаем p-value при помощи теста Уилкоксона-Манна-Уитни\n",
    "print('p-value:', '{0:.3f}'.format(\n",
    "    stats.mannwhitneyu(orders[orders['group']=='A']['revenue'], orders[orders['group']=='B']['revenue'])[1]))\n",
    "\n",
    "# рассчитаем разницу в среднем чеке заказа между группами\n",
    "print('разница:', '{0:.3f}'.format(\n",
    "    orders[orders['group']=='B']['revenue'].mean()/orders[orders['group']=='A']['revenue'].mean()-1))"
   ]
  },
  {
   "cell_type": "markdown",
   "id": "f4e59aaf-3a2d-4687-8636-2a12a9163f3e",
   "metadata": {},
   "source": [
    "Не смотря то, что средний чек в группе B на 25% выше, чем в группе A, p-value превышает уровень статистической значимости, а значит, нулевую гипотезу не отвергаем. Соответсвенно, нет статистических оснований полагать, что есть различия в среднем чеке между группами."
   ]
  },
  {
   "cell_type": "markdown",
   "id": "98c9f711-a76d-4576-81f7-51a14ea3d56e",
   "metadata": {},
   "source": [
    "##### Очищенные данные"
   ]
  },
  {
   "cell_type": "markdown",
   "id": "145b613f-500f-4347-b167-eb961b165e80",
   "metadata": {},
   "source": [
    "Рассчитаем статистическую значимость различий в среднем чеке заказа между группами по очищенным данным, то есть без учета аномалий."
   ]
  },
  {
   "cell_type": "code",
   "execution_count": 28,
   "id": "09eb8019-6cb3-407d-8441-da9f095a39d3",
   "metadata": {},
   "outputs": [
    {
     "name": "stdout",
     "output_type": "stream",
     "text": [
      "p-value: 0.738\n",
      "разница: -0.020\n"
     ]
    }
   ],
   "source": [
    "# рассчитаем p-value при помощи теста Уилкоксона-Манна-Уитни\n",
    "print('p-value:', '{0:.3f}'.format(\n",
    "        stats.mannwhitneyu(\n",
    "            orders[\n",
    "                np.logical_and(\n",
    "                    orders['group'] == 'A',\n",
    "                    np.logical_not(orders['visitorId'].isin(abnormalUsers)),\n",
    "                )\n",
    "            ]['revenue'],\n",
    "            orders[\n",
    "                np.logical_and(\n",
    "                    orders['group'] == 'B',\n",
    "                    np.logical_not(orders['visitorId'].isin(abnormalUsers)),\n",
    "                )\n",
    "            ]['revenue'],\n",
    "        )[1]\n",
    "    )\n",
    ")\n",
    "\n",
    "# рассчитаем разницу в среднем чеке заказа между группами\n",
    "print('разница:', \"{0:.3f}\".format(\n",
    "        orders[\n",
    "            np.logical_and(\n",
    "                orders['group'] == 'B',\n",
    "                np.logical_not(orders['visitorId'].isin(abnormalUsers)),\n",
    "            )\n",
    "        ]['revenue'].mean()\n",
    "        / orders[\n",
    "            np.logical_and(\n",
    "                orders['group'] == 'A',\n",
    "                np.logical_not(orders['visitorId'].isin(abnormalUsers)),\n",
    "            )\n",
    "        ]['revenue'].mean()\n",
    "        - 1\n",
    "    )\n",
    ")"
   ]
  },
  {
   "cell_type": "markdown",
   "id": "74c70812-41b2-487a-99f5-47544ae10a13",
   "metadata": {},
   "source": [
    "p-value также выше уровня статистической значимости, следовательно нулевую гипотезу не отвергаем. В данном случае мы можем также сделать вывод о том, что нет статистических оснований полагать, что есть различия в среднем чеке между группами."
   ]
  },
  {
   "cell_type": "markdown",
   "id": "c758a900-c622-4a89-9706-90602ce72bef",
   "metadata": {},
   "source": [
    "### Вывод"
   ]
  },
  {
   "cell_type": "markdown",
   "id": "9b5b75db-a309-4e34-9e5f-99719d3b2458",
   "metadata": {},
   "source": [
    "Проведя A/B тест мы выяснили, что есть статистически значимое различие по среднему количеству заказов на посетителя между группами как по сырым данным, так и после фильтрации аномалий. При этом, нет статистически значимого различия по среднему чеку между группами ни по сырым, ни по очищенным данным.\n",
    "\n",
    "На графике относительного изменения кумулятивного среднего количества заказов на посетителя группы B к группе A видно, что результаты группы B лучше группы A и что это показатель стабилизировался к окончанию теста.\n",
    "А вот график относительного изменения кумулятивного среднего чека группы B к группе A не стабилен, хотя и показывает, что результаты группы B также превосходят резуьтаты группы A на протяжении практически всего теста.\n",
    "\n",
    "Исходя из приведенных выше выводов, мы принимаем решение остановить тест и признать, что группа B показала результаты, превосходящие результаты группы A. И, следовательно, мы рекомендуем применить протестированную гипотезу."
   ]
  }
 ],
 "metadata": {
  "ExecuteTimeLog": [
   {
    "duration": 369,
    "start_time": "2024-03-03T06:32:09.201Z"
   },
   {
    "duration": 80,
    "start_time": "2024-03-03T06:32:09.572Z"
   },
   {
    "duration": 11,
    "start_time": "2024-03-03T06:32:09.653Z"
   },
   {
    "duration": 9,
    "start_time": "2024-03-03T06:32:09.667Z"
   },
   {
    "duration": 7,
    "start_time": "2024-03-03T06:32:09.678Z"
   },
   {
    "duration": 834,
    "start_time": "2024-03-03T06:32:09.686Z"
   },
   {
    "duration": 295,
    "start_time": "2024-03-03T06:32:10.522Z"
   },
   {
    "duration": 9,
    "start_time": "2024-03-03T06:32:10.819Z"
   },
   {
    "duration": 80,
    "start_time": "2024-03-03T06:32:10.830Z"
   },
   {
    "duration": 11,
    "start_time": "2024-03-03T06:32:10.913Z"
   },
   {
    "duration": 538,
    "start_time": "2024-03-03T06:32:10.925Z"
   },
   {
    "duration": 287,
    "start_time": "2024-03-03T06:32:11.464Z"
   },
   {
    "duration": 434,
    "start_time": "2024-03-03T06:32:11.753Z"
   },
   {
    "duration": 332,
    "start_time": "2024-03-03T06:32:12.188Z"
   },
   {
    "duration": 402,
    "start_time": "2024-03-03T06:32:12.521Z"
   },
   {
    "duration": 143,
    "start_time": "2024-03-03T06:32:12.925Z"
   },
   {
    "duration": 4,
    "start_time": "2024-03-03T06:32:13.069Z"
   },
   {
    "duration": 164,
    "start_time": "2024-03-03T06:32:13.075Z"
   },
   {
    "duration": 5,
    "start_time": "2024-03-03T06:32:13.240Z"
   },
   {
    "duration": 5,
    "start_time": "2024-03-03T06:32:13.246Z"
   },
   {
    "duration": 158,
    "start_time": "2024-03-03T06:32:13.252Z"
   },
   {
    "duration": 32,
    "start_time": "2024-03-03T06:32:13.412Z"
   },
   {
    "duration": 21,
    "start_time": "2024-03-03T06:32:13.445Z"
   },
   {
    "duration": 13,
    "start_time": "2024-03-03T06:32:13.467Z"
   },
   {
    "duration": 10,
    "start_time": "2024-03-04T03:55:35.931Z"
   },
   {
    "duration": 45,
    "start_time": "2024-03-04T03:55:43.714Z"
   },
   {
    "duration": 1338,
    "start_time": "2024-03-04T03:55:49.245Z"
   },
   {
    "duration": 117,
    "start_time": "2024-03-04T03:55:52.957Z"
   },
   {
    "duration": 19,
    "start_time": "2024-03-04T03:55:56.293Z"
   },
   {
    "duration": 7,
    "start_time": "2024-03-04T03:56:06.783Z"
   },
   {
    "duration": 6,
    "start_time": "2024-03-04T03:56:11.045Z"
   },
   {
    "duration": 13,
    "start_time": "2024-03-04T03:56:18.173Z"
   },
   {
    "duration": 11,
    "start_time": "2024-03-04T03:56:46.870Z"
   },
   {
    "duration": 12,
    "start_time": "2024-03-04T03:57:11.806Z"
   },
   {
    "duration": 3,
    "start_time": "2024-03-04T04:08:39.280Z"
   },
   {
    "duration": 112,
    "start_time": "2024-03-04T04:09:39.973Z"
   },
   {
    "duration": 74,
    "start_time": "2024-03-04T04:09:46.917Z"
   },
   {
    "duration": 8,
    "start_time": "2024-03-04T04:10:02.300Z"
   },
   {
    "duration": 83,
    "start_time": "2024-03-04T04:10:05.652Z"
   },
   {
    "duration": 492,
    "start_time": "2024-03-04T04:10:53.396Z"
   },
   {
    "duration": 415,
    "start_time": "2024-03-04T04:11:07.466Z"
   },
   {
    "duration": 108,
    "start_time": "2024-03-04T04:12:14.218Z"
   },
   {
    "duration": 13,
    "start_time": "2024-03-04T04:12:17.753Z"
   },
   {
    "duration": 10,
    "start_time": "2024-03-04T04:12:54.361Z"
   },
   {
    "duration": 7,
    "start_time": "2024-03-04T04:13:42.726Z"
   },
   {
    "duration": 9,
    "start_time": "2024-03-04T04:15:32.123Z"
   },
   {
    "duration": 145,
    "start_time": "2024-03-04T04:15:35.605Z"
   },
   {
    "duration": 5,
    "start_time": "2024-03-04T04:15:37.901Z"
   },
   {
    "duration": 5,
    "start_time": "2024-03-04T04:15:46.614Z"
   },
   {
    "duration": 12,
    "start_time": "2024-03-04T04:16:48.036Z"
   },
   {
    "duration": 1300,
    "start_time": "2024-03-04T04:17:12.877Z"
   },
   {
    "duration": 135,
    "start_time": "2024-03-04T04:17:14.179Z"
   },
   {
    "duration": 12,
    "start_time": "2024-03-04T04:17:14.316Z"
   },
   {
    "duration": 28,
    "start_time": "2024-03-04T04:17:14.329Z"
   },
   {
    "duration": 12,
    "start_time": "2024-03-04T04:17:14.358Z"
   },
   {
    "duration": 81,
    "start_time": "2024-03-04T04:17:14.372Z"
   },
   {
    "duration": 10,
    "start_time": "2024-03-04T04:17:14.455Z"
   },
   {
    "duration": 18,
    "start_time": "2024-03-04T04:17:14.467Z"
   },
   {
    "duration": 11,
    "start_time": "2024-03-04T04:17:14.486Z"
   },
   {
    "duration": 155,
    "start_time": "2024-03-04T04:17:14.499Z"
   },
   {
    "duration": 11,
    "start_time": "2024-03-04T04:17:14.656Z"
   },
   {
    "duration": 12,
    "start_time": "2024-03-04T04:17:14.668Z"
   },
   {
    "duration": 12,
    "start_time": "2024-03-04T04:17:14.682Z"
   },
   {
    "duration": 628,
    "start_time": "2024-03-04T04:17:14.695Z"
   },
   {
    "duration": 240,
    "start_time": "2024-03-04T04:17:15.324Z"
   },
   {
    "duration": 345,
    "start_time": "2024-03-04T04:17:15.565Z"
   },
   {
    "duration": 283,
    "start_time": "2024-03-04T04:17:15.911Z"
   },
   {
    "duration": 338,
    "start_time": "2024-03-04T04:17:16.196Z"
   },
   {
    "duration": 168,
    "start_time": "2024-03-04T04:17:16.536Z"
   },
   {
    "duration": 5,
    "start_time": "2024-03-04T04:17:16.706Z"
   },
   {
    "duration": 285,
    "start_time": "2024-03-04T04:17:16.713Z"
   },
   {
    "duration": 5,
    "start_time": "2024-03-04T04:17:17.000Z"
   },
   {
    "duration": 4,
    "start_time": "2024-03-04T04:17:17.007Z"
   },
   {
    "duration": 209,
    "start_time": "2024-03-04T04:17:17.012Z"
   },
   {
    "duration": 38,
    "start_time": "2024-03-04T04:17:17.223Z"
   },
   {
    "duration": 12,
    "start_time": "2024-03-04T04:17:17.272Z"
   },
   {
    "duration": 16,
    "start_time": "2024-03-04T04:17:17.286Z"
   },
   {
    "duration": 204,
    "start_time": "2024-03-04T04:22:41.596Z"
   },
   {
    "duration": 256,
    "start_time": "2024-03-04T04:25:38.471Z"
   },
   {
    "duration": 171,
    "start_time": "2024-03-04T04:25:47.495Z"
   },
   {
    "duration": 165,
    "start_time": "2024-03-04T04:26:02.591Z"
   },
   {
    "duration": 168,
    "start_time": "2024-03-04T04:30:56.702Z"
   },
   {
    "duration": 38,
    "start_time": "2024-03-04T04:43:41.089Z"
   },
   {
    "duration": 39,
    "start_time": "2024-03-04T04:43:54.475Z"
   },
   {
    "duration": 1249,
    "start_time": "2024-03-04T04:45:20.733Z"
   },
   {
    "duration": 47,
    "start_time": "2024-03-04T04:45:21.984Z"
   },
   {
    "duration": 11,
    "start_time": "2024-03-04T04:45:22.033Z"
   },
   {
    "duration": 20,
    "start_time": "2024-03-04T04:45:22.046Z"
   },
   {
    "duration": 14,
    "start_time": "2024-03-04T04:45:22.068Z"
   },
   {
    "duration": 51,
    "start_time": "2024-03-04T04:45:22.084Z"
   },
   {
    "duration": 11,
    "start_time": "2024-03-04T04:45:22.137Z"
   },
   {
    "duration": 17,
    "start_time": "2024-03-04T04:45:22.150Z"
   },
   {
    "duration": 17,
    "start_time": "2024-03-04T04:45:22.168Z"
   },
   {
    "duration": 35,
    "start_time": "2024-03-04T04:45:22.188Z"
   },
   {
    "duration": 10,
    "start_time": "2024-03-04T04:45:22.225Z"
   },
   {
    "duration": 7,
    "start_time": "2024-03-04T04:45:22.236Z"
   },
   {
    "duration": 8,
    "start_time": "2024-03-04T04:45:22.245Z"
   },
   {
    "duration": 614,
    "start_time": "2024-03-04T04:45:22.255Z"
   },
   {
    "duration": 269,
    "start_time": "2024-03-04T04:45:22.872Z"
   },
   {
    "duration": 372,
    "start_time": "2024-03-04T04:45:23.143Z"
   },
   {
    "duration": 281,
    "start_time": "2024-03-04T04:45:23.517Z"
   },
   {
    "duration": 373,
    "start_time": "2024-03-04T04:45:23.800Z"
   },
   {
    "duration": 175,
    "start_time": "2024-03-04T04:45:24.175Z"
   },
   {
    "duration": 5,
    "start_time": "2024-03-04T04:45:24.352Z"
   },
   {
    "duration": 196,
    "start_time": "2024-03-04T04:45:24.358Z"
   },
   {
    "duration": 179,
    "start_time": "2024-03-04T04:45:24.555Z"
   },
   {
    "duration": 5,
    "start_time": "2024-03-04T04:45:24.736Z"
   },
   {
    "duration": 5,
    "start_time": "2024-03-04T04:45:24.742Z"
   },
   {
    "duration": 281,
    "start_time": "2024-03-04T04:45:24.749Z"
   },
   {
    "duration": 50,
    "start_time": "2024-03-04T04:45:25.032Z"
   },
   {
    "duration": 10,
    "start_time": "2024-03-04T04:45:25.084Z"
   },
   {
    "duration": 34,
    "start_time": "2024-03-04T04:45:25.097Z"
   },
   {
    "duration": 1407,
    "start_time": "2024-03-04T05:50:55.089Z"
   },
   {
    "duration": 78,
    "start_time": "2024-03-04T05:50:56.498Z"
   },
   {
    "duration": 14,
    "start_time": "2024-03-04T05:50:56.577Z"
   },
   {
    "duration": 17,
    "start_time": "2024-03-04T05:50:56.593Z"
   },
   {
    "duration": 14,
    "start_time": "2024-03-04T05:50:56.612Z"
   },
   {
    "duration": 225,
    "start_time": "2024-03-04T05:50:56.628Z"
   },
   {
    "duration": 11,
    "start_time": "2024-03-04T05:50:56.855Z"
   },
   {
    "duration": 38,
    "start_time": "2024-03-04T05:50:56.868Z"
   },
   {
    "duration": 16,
    "start_time": "2024-03-04T05:50:56.909Z"
   },
   {
    "duration": 88,
    "start_time": "2024-03-04T05:50:56.929Z"
   },
   {
    "duration": 15,
    "start_time": "2024-03-04T05:50:57.019Z"
   },
   {
    "duration": 11,
    "start_time": "2024-03-04T05:50:57.037Z"
   },
   {
    "duration": 20,
    "start_time": "2024-03-04T05:50:57.050Z"
   },
   {
    "duration": 641,
    "start_time": "2024-03-04T05:50:57.072Z"
   },
   {
    "duration": 251,
    "start_time": "2024-03-04T05:50:57.715Z"
   },
   {
    "duration": 407,
    "start_time": "2024-03-04T05:50:57.968Z"
   },
   {
    "duration": 257,
    "start_time": "2024-03-04T05:50:58.377Z"
   },
   {
    "duration": 326,
    "start_time": "2024-03-04T05:50:58.636Z"
   },
   {
    "duration": 169,
    "start_time": "2024-03-04T05:50:58.964Z"
   },
   {
    "duration": 5,
    "start_time": "2024-03-04T05:50:59.135Z"
   },
   {
    "duration": 189,
    "start_time": "2024-03-04T05:50:59.142Z"
   },
   {
    "duration": 165,
    "start_time": "2024-03-04T05:50:59.333Z"
   },
   {
    "duration": 5,
    "start_time": "2024-03-04T05:50:59.499Z"
   },
   {
    "duration": 4,
    "start_time": "2024-03-04T05:50:59.506Z"
   },
   {
    "duration": 268,
    "start_time": "2024-03-04T05:50:59.511Z"
   },
   {
    "duration": 67,
    "start_time": "2024-03-04T05:50:59.781Z"
   },
   {
    "duration": 13,
    "start_time": "2024-03-04T05:50:59.850Z"
   },
   {
    "duration": 35,
    "start_time": "2024-03-04T05:50:59.867Z"
   },
   {
    "duration": 5,
    "start_time": "2024-03-04T05:55:06.179Z"
   },
   {
    "duration": 5,
    "start_time": "2024-03-04T05:57:42.453Z"
   }
  ],
  "kernelspec": {
   "display_name": "Python 3 (ipykernel)",
   "language": "python",
   "name": "python3"
  },
  "language_info": {
   "codemirror_mode": {
    "name": "ipython",
    "version": 3
   },
   "file_extension": ".py",
   "mimetype": "text/x-python",
   "name": "python",
   "nbconvert_exporter": "python",
   "pygments_lexer": "ipython3",
   "version": "3.9.5"
  },
  "toc": {
   "base_numbering": 1,
   "nav_menu": {},
   "number_sections": true,
   "sideBar": true,
   "skip_h1_title": true,
   "title_cell": "Table of Contents",
   "title_sidebar": "Contents",
   "toc_cell": false,
   "toc_position": {
    "height": "calc(100% - 180px)",
    "left": "10px",
    "top": "150px",
    "width": "384px"
   },
   "toc_section_display": true,
   "toc_window_display": true
  }
 },
 "nbformat": 4,
 "nbformat_minor": 5
}
